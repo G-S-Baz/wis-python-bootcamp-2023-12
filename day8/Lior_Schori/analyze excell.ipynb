{
 "cells": [
  {
   "cell_type": "code",
   "execution_count": null,
   "id": "9183ae0d-491f-4ba3-aacc-253bbc99f52c",
   "metadata": {},
   "outputs": [],
   "source": [
    "#Lior Schori"
   ]
  },
  {
   "cell_type": "code",
   "execution_count": 1,
   "id": "ae986053-0819-4cb9-a24b-6ba32efaaacc",
   "metadata": {},
   "outputs": [],
   "source": [
    "import openpyxl\n",
    "#from openpyxl import load_workbook\n",
    "\n",
    "cell_metadata_wb = openpyxl.load_workbook(filename = 'cellpose_cell_metadata.xlsx')\n",
    "cell_metadata_ws = cell_metadata_wb.active\n"
   ]
  },
  {
   "cell_type": "code",
   "execution_count": 2,
   "id": "d6ce9d39-a023-4deb-b5d8-671bb3aa5a20",
   "metadata": {},
   "outputs": [],
   "source": [
    "cell_metadata_ws.delete_cols(idx=2, amount=1)"
   ]
  },
  {
   "cell_type": "code",
   "execution_count": 3,
   "id": "dfe972fc-82d1-4557-bdab-7be57129557c",
   "metadata": {},
   "outputs": [
    {
     "name": "stdout",
     "output_type": "stream",
     "text": [
      "EntityID\n",
      "volume\n",
      "center_x\n",
      "center_y\n",
      "min_x\n",
      "min_y\n",
      "max_x\n",
      "max_y\n",
      "anisotropy\n",
      "transcript_count\n",
      "perimeter_area_ratio\n",
      "solidity\n"
     ]
    }
   ],
   "source": [
    "for cols in cell_metadata_ws.iter_cols(max_row=1, min_col=1, max_col=cell_metadata_ws.max_column):\n",
    "    for cell in cols:\n",
    "        print(cell.value)"
   ]
  },
  {
   "cell_type": "code",
   "execution_count": 4,
   "id": "75aa1a15-38df-41b0-a58a-94d479824c7d",
   "metadata": {},
   "outputs": [],
   "source": [
    "vector = [1] + list(range(2, cell_metadata_ws.max_row))\n",
    "\n",
    "for val in range(len(vector)):\n",
    "    cell_metadata_ws.cell(row=val+2, column=1).value = vector[val]\n"
   ]
  },
  {
   "cell_type": "code",
   "execution_count": 5,
   "id": "57061d9a-a3e8-4e40-986d-bd2c0cab608a",
   "metadata": {},
   "outputs": [
    {
     "name": "stdout",
     "output_type": "stream",
     "text": [
      "EntityID\n",
      "volume\n",
      "center_x\n",
      "center_y\n",
      "min_x\n",
      "min_y\n",
      "max_x\n",
      "max_y\n",
      "anisotropy\n",
      "transcript_count\n",
      "perimeter_area_ratio\n",
      "solidity\n"
     ]
    }
   ],
   "source": [
    "for cols in cell_metadata_ws.iter_cols(max_row=1, min_col=1, max_col=cell_metadata_ws.max_column):\n",
    "   for cell in cols:\n",
    "        print(cell.value)"
   ]
  },
  {
   "cell_type": "code",
   "execution_count": null,
   "id": "21e21d2c-736a-451c-bae5-415c7a3370b9",
   "metadata": {},
   "outputs": [],
   "source": [
    "#for row in cell_metadata_ws.iter_rows(min_row=2, max_row=cell_metadata_ws.max_row, min_col=1, max_col=1):\n",
    " #   for cell in row:\n",
    "  #      print(cell.value)"
   ]
  },
  {
   "cell_type": "code",
   "execution_count": 6,
   "id": "3872e1da-76ce-46b4-a816-7848cdbac71c",
   "metadata": {},
   "outputs": [],
   "source": [
    "#choose only cells with biologically relevant volume\n",
    "min_volume = 10\n",
    "max_volume = 2000\n",
    "\n",
    "filtered_rows = {}\n",
    "for row in range(2, cell_metadata_ws.max_row + 1):\n",
    "    cell_value = cell_metadata_ws.cell(row=row, column=2).value\n",
    "    \n",
    "    if min_volume < cell_value < max_volume:\n",
    "        filtered_rows[row] = (cell_value)\n",
    "\n"
   ]
  },
  {
   "cell_type": "code",
   "execution_count": 7,
   "id": "88bf1b3a-58fa-4cd7-9d57-4a1bbd416923",
   "metadata": {},
   "outputs": [],
   "source": [
    "cell_metadata_wb.create_sheet('filtered volume')\n",
    "cell_metadata_wb.save('metadata_vol.xlsx')"
   ]
  },
  {
   "cell_type": "code",
   "execution_count": 8,
   "id": "bbdc3533-4e4a-4e26-a004-547926a60952",
   "metadata": {},
   "outputs": [],
   "source": [
    "volume_wb = load_workbook('metadata_vol.xlsx')\n",
    "filterd_volume_sheet = volume_wb['filtered volume']"
   ]
  },
  {
   "cell_type": "code",
   "execution_count": 9,
   "id": "fb220d7c-f1a9-49e5-b826-76392abcc83b",
   "metadata": {},
   "outputs": [],
   "source": [
    "num=1\n",
    "for key, val in filtered_rows.items():\n",
    "    filterd_volume_sheet.cell(row=num, column=1, value=key)\n",
    "    filterd_volume_sheet.cell(row=num, column=2, value=val)    \n",
    "    num=num+1"
   ]
  },
  {
   "cell_type": "code",
   "execution_count": 10,
   "id": "10350b27-4f2d-429a-855f-613f4e257fc2",
   "metadata": {},
   "outputs": [],
   "source": [
    "volume_wb.save('metadata_vol_1.xlsx')"
   ]
  },
  {
   "cell_type": "code",
   "execution_count": 11,
   "id": "8c93fecd-f7a6-4084-accb-7b7cf55e7afd",
   "metadata": {},
   "outputs": [],
   "source": [
    "volume_wb = load_workbook('metadata_vol_1.xlsx')\n",
    "filterd_volume_ws = volume_wb['filtered volume']\n",
    "from openpyxl.chart import (\n",
    "    ScatterChart,\n",
    "    Reference,\n",
    "    Series,\n",
    ")\n",
    "\n",
    "chart = ScatterChart()\n",
    "chart.title = \"Cell volume\"\n",
    "chart.style = 13\n",
    "chart.x_axis.title = 'cell'\n",
    "chart.y_axis.title = 'volume'\n",
    "\n",
    "x_values = Reference(filterd_volume_ws, min_col=1, max_col=1, min_row=1, max_row=filterd_volume_ws.max_row)\n",
    "y_values = Reference(filterd_volume_ws, min_col=2, max_col=2, min_row=1, max_row=filterd_volume_ws.max_row)\n",
    "    \n",
    "series = Series(y_values, x_values, title_from_data=True)\n",
    "chart.series.append(series)\n",
    "\n",
    "# Add the chart to the worksheet\n",
    "filterd_volume_ws.add_chart(chart, \"D1\")\n",
    "\n",
    "# Save the workbook\n",
    "volume_wb.save(\"metadata_vol_2.xlsx\")"
   ]
  },
  {
   "cell_type": "code",
   "execution_count": 2,
   "id": "c2fe9f6c-69a7-40c7-9828-c6287d7d9574",
   "metadata": {},
   "outputs": [],
   "source": [
    "%%capture\n",
    "!pip -q install matplotlib\n",
    "!pip -q install pandas \n",
    "!pip -q install numpy\n"
   ]
  },
  {
   "cell_type": "code",
   "execution_count": 4,
   "id": "a4570baf-f21b-40bc-95ce-d09f915438d7",
   "metadata": {},
   "outputs": [],
   "source": [
    "import matplotlib.pyplot as plt\n",
    "import numpy as np\n",
    "import pandas as pd"
   ]
  },
  {
   "cell_type": "code",
   "execution_count": 6,
   "id": "25772e91-4044-4742-9012-a5614a750a04",
   "metadata": {},
   "outputs": [],
   "source": [
    "df = pd.read_excel(r\"metadata_vol_2.xlsx\", sheet_name=\"filtered volume\")"
   ]
  },
  {
   "cell_type": "code",
   "execution_count": 14,
   "id": "d7665ee1-2182-4e0c-946b-325b62de4c61",
   "metadata": {},
   "outputs": [
    {
     "data": {
      "text/plain": [
       "pandas.core.frame.DataFrame"
      ]
     },
     "execution_count": 14,
     "metadata": {},
     "output_type": "execute_result"
    }
   ],
   "source": [
    "type(df)"
   ]
  },
  {
   "cell_type": "code",
   "execution_count": 15,
   "id": "dd24c203-dddf-4460-a8e9-c620ea5e0233",
   "metadata": {},
   "outputs": [
    {
     "data": {
      "text/html": [
       "<div>\n",
       "<style scoped>\n",
       "    .dataframe tbody tr th:only-of-type {\n",
       "        vertical-align: middle;\n",
       "    }\n",
       "\n",
       "    .dataframe tbody tr th {\n",
       "        vertical-align: top;\n",
       "    }\n",
       "\n",
       "    .dataframe thead th {\n",
       "        text-align: right;\n",
       "    }\n",
       "</style>\n",
       "<table border=\"1\" class=\"dataframe\">\n",
       "  <thead>\n",
       "    <tr style=\"text-align: right;\">\n",
       "      <th></th>\n",
       "      <th>2.000000</th>\n",
       "      <th>795.110416</th>\n",
       "    </tr>\n",
       "  </thead>\n",
       "  <tbody>\n",
       "    <tr>\n",
       "      <th>0</th>\n",
       "      <td>3</td>\n",
       "      <td>398.445531</td>\n",
       "    </tr>\n",
       "    <tr>\n",
       "      <th>1</th>\n",
       "      <td>4</td>\n",
       "      <td>547.708121</td>\n",
       "    </tr>\n",
       "    <tr>\n",
       "      <th>2</th>\n",
       "      <td>5</td>\n",
       "      <td>475.133117</td>\n",
       "    </tr>\n",
       "    <tr>\n",
       "      <th>3</th>\n",
       "      <td>6</td>\n",
       "      <td>523.957643</td>\n",
       "    </tr>\n",
       "    <tr>\n",
       "      <th>4</th>\n",
       "      <td>7</td>\n",
       "      <td>919.791518</td>\n",
       "    </tr>\n",
       "    <tr>\n",
       "      <th>...</th>\n",
       "      <td>...</td>\n",
       "      <td>...</td>\n",
       "    </tr>\n",
       "    <tr>\n",
       "      <th>136909</th>\n",
       "      <td>180399</td>\n",
       "      <td>930.488587</td>\n",
       "    </tr>\n",
       "    <tr>\n",
       "      <th>136910</th>\n",
       "      <td>180400</td>\n",
       "      <td>1257.763660</td>\n",
       "    </tr>\n",
       "    <tr>\n",
       "      <th>136911</th>\n",
       "      <td>180401</td>\n",
       "      <td>311.242349</td>\n",
       "    </tr>\n",
       "    <tr>\n",
       "      <th>136912</th>\n",
       "      <td>180402</td>\n",
       "      <td>495.593864</td>\n",
       "    </tr>\n",
       "    <tr>\n",
       "      <th>136913</th>\n",
       "      <td>180403</td>\n",
       "      <td>404.257608</td>\n",
       "    </tr>\n",
       "  </tbody>\n",
       "</table>\n",
       "<p>136914 rows × 2 columns</p>\n",
       "</div>"
      ],
      "text/plain": [
       "        2.000000     795.110416\n",
       "0                3   398.445531\n",
       "1                4   547.708121\n",
       "2                5   475.133117\n",
       "3                6   523.957643\n",
       "4                7   919.791518\n",
       "...            ...          ...\n",
       "136909      180399   930.488587\n",
       "136910      180400  1257.763660\n",
       "136911      180401   311.242349\n",
       "136912      180402   495.593864\n",
       "136913      180403   404.257608\n",
       "\n",
       "[136914 rows x 2 columns]"
      ]
     },
     "execution_count": 15,
     "metadata": {},
     "output_type": "execute_result"
    }
   ],
   "source": [
    "df"
   ]
  },
  {
   "cell_type": "code",
   "execution_count": 10,
   "id": "c28eda31-2843-48b7-aec1-8fc2e69472b6",
   "metadata": {},
   "outputs": [
    {
     "data": {
      "text/plain": [
       "pandas.core.series.Series"
      ]
     },
     "execution_count": 10,
     "metadata": {},
     "output_type": "execute_result"
    }
   ],
   "source": [
    "# Access the data from column 'Number'\n",
    "cell_vol_data = df[2]\n",
    "type(cell_vol_data)"
   ]
  },
  {
   "cell_type": "code",
   "execution_count": 9,
   "id": "7c03aaef-e674-4a32-af4e-ca889f6391f7",
   "metadata": {},
   "outputs": [
    {
     "data": {
      "text/plain": [
       "0              3\n",
       "1              4\n",
       "2              5\n",
       "3              6\n",
       "4              7\n",
       "           ...  \n",
       "136909    180399\n",
       "136910    180400\n",
       "136911    180401\n",
       "136912    180402\n",
       "136913    180403\n",
       "Name: 2.0, Length: 136914, dtype: int64"
      ]
     },
     "execution_count": 9,
     "metadata": {},
     "output_type": "execute_result"
    }
   ],
   "source": [
    "cell_vol_data"
   ]
  },
  {
   "cell_type": "code",
   "execution_count": 13,
   "id": "09ea1418-8d23-485a-84b7-ef66b7708771",
   "metadata": {},
   "outputs": [
    {
     "data": {
      "image/png": "[encoded data removed]",
      "text/plain": [
       "<Figure size 640x480 with 1 Axes>"
      ]
     },
     "metadata": {},
     "output_type": "display_data"
    }
   ],
   "source": [
    "# Plot the histogram\n",
    "plt.hist(cell_vol_data, bins=50, alpha=0.5, color='blue')\n",
    "\n",
    "# Add labels and title\n",
    "plt.xlabel('Cell')\n",
    "plt.ylabel('Volume')\n",
    "plt.title('Histogram of cell volume')\n",
    "\n",
    "plt.savefig('histogram.png')\n",
    "# Show the plot\n",
    "plt.show()"
   ]
  },
  {
   "cell_type": "code",
   "execution_count": 21,
   "id": "000f01b1-01af-4324-b27d-6975c155e51c",
   "metadata": {},
   "outputs": [],
   "source": [
    "!pip -q install xlsxwriter \n",
    "\n",
    "with pd.ExcelWriter('metadata_vol_3.xlsx', engine='xlsxwriter') as writer:\n",
    "    df.to_excel(writer, sheet_name='filtered volume')\n",
    "    worksheet = writer.sheets['filtered volume']\n",
    "    worksheet.insert_image('E2', 'histogram.png')"
   ]
  },
  {
   "cell_type": "code",
   "execution_count": null,
   "id": "2ca4190a-6a7e-4fd2-a470-487e0df5db65",
   "metadata": {},
   "outputs": [],
   "source": []
  }
 ],
 "metadata": {
  "kernelspec": {
   "display_name": "Python 3 (ipykernel)",
   "language": "python",
   "name": "python3"
  },
  "language_info": {
   "codemirror_mode": {
    "name": "ipython",
    "version": 3
   },
   "file_extension": ".py",
   "mimetype": "text/x-python",
   "name": "python",
   "nbconvert_exporter": "python",
   "pygments_lexer": "ipython3",
   "version": "3.11.6"
  }
 },
 "nbformat": 4,
 "nbformat_minor": 5
}
