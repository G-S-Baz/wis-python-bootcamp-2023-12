{
 "cells": [
  {
   "cell_type": "code",
   "execution_count": 1,
   "id": "1970a659-7b47-4913-a2c7-a628346e184a",
   "metadata": {},
   "outputs": [],
   "source": [
    "# Guy Baz\n",
    "import openpyxl"
   ]
  },
  {
   "cell_type": "code",
   "execution_count": 2,
   "id": "c388511f-02c2-4dba-bcc6-7638666c3db9",
   "metadata": {},
   "outputs": [],
   "source": [
    "wb = openpyxl.load_workbook(filename = \"Sec-117-Public-Records-Complete-Oct-13-2023.xlsx\")"
   ]
  },
  {
   "cell_type": "code",
   "execution_count": 3,
   "id": "49342385-6c3e-4f9b-8481-cc20edc35a32",
   "metadata": {},
   "outputs": [],
   "source": [
    "ws = wb.active"
   ]
  },
  {
   "cell_type": "code",
   "execution_count": 4,
   "id": "b21f71ac-5ef0-46a7-a0fa-2060a6038e48",
   "metadata": {},
   "outputs": [],
   "source": [
    "# functions that support the code\n",
    "def updateDictionary(Dict,item,amount):\n",
    "    if amount is None:\n",
    "        return Dict\n",
    "        \n",
    "    if item in Dict:\n",
    "        Dict[item] += amount\n",
    "    else:\n",
    "        Dict[item] = amount\n",
    "    return Dict\n",
    "\n",
    "def WroteDictionaryToSheet(Dict,tit):\n",
    "    # making a new sheet\n",
    "    wsnew = wb.create_sheet()\n",
    "    wsnew.title = tit\n",
    "    wsnew.sheet_properties.tabColor = \"e63019\"\n",
    "    wsnew['A1'] = \"institution\"\n",
    "    wsnew['B1'] = \"amount\"\n",
    "    a = 2\n",
    "    for item in Dict:\n",
    "        wsnew.cell(row = a, column = 1).value = item\n",
    "        wsnew.cell(row = a, column = 2).value = Dict[item]\n",
    "        a +=1\n",
    "    return(wsnew)\n",
    "\n",
    "def makePieChart(top,Sheet,tit):\n",
    "    labels = openpyxl.chart.Reference(Sheet, min_col=1, min_row=2, max_row=(top+1))\n",
    "    data = openpyxl.chart.Reference(Sheet, min_col=2, min_row=2, max_row=(top+1))\n",
    "    pie = openpyxl.chart.PieChart()\n",
    "    pie.add_data(data, titles_from_data=True)\n",
    "    pie.set_categories(labels)\n",
    "    pie.title = tit\n",
    "    Sheet.add_chart(pie, \"D1\")"
   ]
  },
  {
   "cell_type": "code",
   "execution_count": 5,
   "id": "70e05d1f-b859-41e9-8b97-74fdb83175fa",
   "metadata": {},
   "outputs": [],
   "source": [
    "# counting donations and aggregating by different variables - institution, state & donating country\n",
    "institution = {}\n",
    "states = {}\n",
    "GiftOrigins = {}\n",
    "# skip the first row as it is some title\n",
    "# skip the second row as that includes the title of the columns\n",
    "# Why the F column?\n",
    "from openpyxl.utils.cell import column_index_from_string\n",
    "\n",
    "for row in range(3,len(ws['F'])):\n",
    "    amount = ws.cell(row, column_index_from_string('G')).value\n",
    "    institute = ws.cell(row, column_index_from_string('B')).value\n",
    "    state = ws.cell(row, column_index_from_string('C')).value\n",
    "    Giver = ws.cell(row, column_index_from_string('F')).value\n",
    "    institution = updateDictionary(institution,institute,amount)\n",
    "    states = updateDictionary(states,state,amount)\n",
    "    GiftOrigins = updateDictionary(GiftOrigins,Giver,amount)"
   ]
  },
  {
   "cell_type": "code",
   "execution_count": 6,
   "id": "73434fbd-4cb4-4b7d-87c6-ce0fc06aafea",
   "metadata": {},
   "outputs": [
    {
     "name": "stdout",
     "output_type": "stream",
     "text": [
      "{'Harvard University': 2829109124.7, 'Carnegie Mellon University': 2717299544.8, 'Cornell University': 2576291177.62, 'University of Pennsylvania': 2200357125.5999994, 'Massachusetts Institute of Technology': 1908071726.6599998, 'Stanford University': 1476558595.77, 'Johns Hopkins University': 1357575582.2800002, 'Yale University': 1263868324.3}\n",
      "{'CA': 6898343877.793994, 'MA': 6172317400.259999, 'NY': 6057942086.640001, 'PA': 6043377719.38, 'TX': 3420765809.909999, 'IL': 2400097826.4900002, 'DC': 1686076307.06, 'MD': 1473375574.7800002}\n",
      "{'QATAR': 5188401965.35, 'ENGLAND': 3723223015.9729996, 'CANADA': 3040620909.1500006, 'CHINA': 2910769845.0099993, 'SAUDI ARABIA': 2858152606.7339997, 'GERMANY': 2409069229.0599976, 'JAPAN': 2331532015.26, 'SWITZERLAND': 2137836295.6400008}\n"
     ]
    }
   ],
   "source": [
    "# Taking top 10 from each category\n",
    "# top_n_from_each_category(n)\n",
    "top = 8\n",
    "top_institution = sorted(institution, key=institution.get, reverse=True)[:top]\n",
    "top_institution = {key: institution[key] for key in top_institution if key in institution}\n",
    "top_states = sorted(states, key=states.get, reverse=True)[:top]\n",
    "top_states = {key: states[key] for key in top_states if key in states}\n",
    "top_GiftOrigins = sorted(GiftOrigins, key=GiftOrigins.get, reverse=True)[:top]\n",
    "top_GiftOrigins = {key: GiftOrigins[key] for key in top_GiftOrigins if key in GiftOrigins}\n",
    "print(top_institution)\n",
    "print(top_states)\n",
    "print(top_GiftOrigins)"
   ]
  },
  {
   "cell_type": "code",
   "execution_count": 11,
   "id": "5b658025-2445-4019-90cd-ad8b4ec153f9",
   "metadata": {},
   "outputs": [],
   "source": [
    "wb = openpyxl.Workbook()\n",
    "(ws2) = WroteDictionaryToSheet(top_institution,\"institutions\")\n",
    "makePieChart(top,ws2,\"institutions\")\n",
    "\n",
    "(ws3) = WroteDictionaryToSheet(top_states,\"states\")\n",
    "makePieChart(top,ws3,\"states\")\n",
    "\n",
    "(ws4) = WroteDictionaryToSheet(top_GiftOrigins,\"Donating Country\")\n",
    "makePieChart(top,ws4,\"Donating Country\")\n"
   ]
  },
  {
   "cell_type": "code",
   "execution_count": 12,
   "id": "1a925c2f-3ce0-4789-bf47-4e8f13344b15",
   "metadata": {},
   "outputs": [],
   "source": [
    "wb.save(\"result.xlsx\")"
   ]
  }
 ],
 "metadata": {
  "kernelspec": {
   "display_name": "Python 3 (ipykernel)",
   "language": "python",
   "name": "python3"
  },
  "language_info": {
   "codemirror_mode": {
    "name": "ipython",
    "version": 3
   },
   "file_extension": ".py",
   "mimetype": "text/x-python",
   "name": "python",
   "nbconvert_exporter": "python",
   "pygments_lexer": "ipython3",
   "version": "3.11.6"
  }
 },
 "nbformat": 4,
 "nbformat_minor": 5
}
