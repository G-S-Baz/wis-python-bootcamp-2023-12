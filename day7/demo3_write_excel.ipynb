{
 "cells": [
  {
   "cell_type": "code",
   "execution_count": 1,
   "id": "edca43af-2369-4916-b8b9-57629fed4c34",
   "metadata": {},
   "outputs": [
    {
     "name": "stdout",
     "output_type": "stream",
     "text": [
      "Requirement already satisfied: openpyxl in /home/gabor/venv/lib/python3.11/site-packages (3.1.2)\n",
      "Requirement already satisfied: et-xmlfile in /home/gabor/venv/lib/python3.11/site-packages (from openpyxl) (1.1.0)\n"
     ]
    }
   ],
   "source": [
    "!pip install openpyxl"
   ]
  },
  {
   "cell_type": "code",
   "execution_count": 2,
   "id": "4ae245bb-49b9-4ca7-b2bc-44618a8e73ec",
   "metadata": {},
   "outputs": [],
   "source": [
    "import openpyxl"
   ]
  },
  {
   "cell_type": "code",
   "execution_count": 3,
   "id": "b453d297-1df8-491f-8386-83f8646e3647",
   "metadata": {},
   "outputs": [],
   "source": [
    "wb = openpyxl.Workbook()"
   ]
  },
  {
   "cell_type": "code",
   "execution_count": 4,
   "id": "92497f0e-9c2c-4f1d-908b-18566a3b5a99",
   "metadata": {},
   "outputs": [],
   "source": [
    "ws = wb.active"
   ]
  },
  {
   "cell_type": "code",
   "execution_count": 5,
   "id": "1dba3d43-7702-4018-b918-6d6148f03508",
   "metadata": {},
   "outputs": [],
   "source": [
    "ws['A1'] = 42"
   ]
  },
  {
   "cell_type": "code",
   "execution_count": 6,
   "id": "a23cb83f-b53d-4c62-b332-96943335cf63",
   "metadata": {},
   "outputs": [],
   "source": [
    "wb.save(\"first.xlsx\")"
   ]
  },
  {
   "cell_type": "code",
   "execution_count": 7,
   "id": "5b8ad8c7-2da3-49e8-88a4-b56aa1f74ee1",
   "metadata": {},
   "outputs": [],
   "source": [
    "import datetime"
   ]
  },
  {
   "cell_type": "code",
   "execution_count": 8,
   "id": "37fbbb8a-6b43-451d-9e7b-a87bbd6de4eb",
   "metadata": {},
   "outputs": [],
   "source": [
    "ws['A2'] = datetime.datetime.now()"
   ]
  },
  {
   "cell_type": "code",
   "execution_count": 9,
   "id": "72df22ba-45f2-4f2a-803e-faebc8a5f238",
   "metadata": {},
   "outputs": [
    {
     "data": {
      "text/plain": [
       "datetime.datetime(2024, 1, 28, 10, 46, 9, 546491)"
      ]
     },
     "execution_count": 9,
     "metadata": {},
     "output_type": "execute_result"
    }
   ],
   "source": [
    "ws['A2'].value"
   ]
  },
  {
   "cell_type": "code",
   "execution_count": 10,
   "id": "342bdc9a-0c05-41b7-bbfc-bdd52445de1e",
   "metadata": {},
   "outputs": [],
   "source": [
    "wb.save(\"second.xlsx\")"
   ]
  },
  {
   "cell_type": "code",
   "execution_count": 11,
   "id": "78eabb3c-fea4-4b23-970a-a7216f38848b",
   "metadata": {},
   "outputs": [
    {
     "data": {
      "text/plain": [
       "13.0"
      ]
     },
     "execution_count": 11,
     "metadata": {},
     "output_type": "execute_result"
    }
   ],
   "source": [
    "ws.column_dimensions['A'].width"
   ]
  },
  {
   "cell_type": "code",
   "execution_count": 12,
   "id": "b3f43220-a4e5-4d39-9ae0-9f8d55314893",
   "metadata": {},
   "outputs": [],
   "source": [
    "ws.column_dimensions['A'].width = 20.0"
   ]
  },
  {
   "cell_type": "code",
   "execution_count": 13,
   "id": "d252eb33-44cc-4c50-8a35-53641e0355ac",
   "metadata": {},
   "outputs": [],
   "source": [
    "wb.save(\"third.xlsx\")"
   ]
  },
  {
   "cell_type": "code",
   "execution_count": 14,
   "id": "23eba400-51da-4646-a058-3a1acaf1dd0e",
   "metadata": {},
   "outputs": [
    {
     "data": {
      "text/plain": [
       "datetime.datetime(2024, 1, 28, 10, 46, 9, 546491)"
      ]
     },
     "execution_count": 14,
     "metadata": {},
     "output_type": "execute_result"
    }
   ],
   "source": [
    "ws['A2'].value"
   ]
  },
  {
   "cell_type": "code",
   "execution_count": 15,
   "id": "b575553b-eda8-46b2-aabe-97d8b3fdd302",
   "metadata": {},
   "outputs": [],
   "source": [
    "ws.title = \"Main\""
   ]
  },
  {
   "cell_type": "code",
   "execution_count": 19,
   "id": "b8ac29bf-8a57-448e-8627-8ac6db22cd34",
   "metadata": {},
   "outputs": [],
   "source": [
    "ws2 = wb.create_sheet()\n",
    "ws2.title = \"Other\"\n",
    "#ws2.sheet_properties.tabColor = \"1072BA\"\n",
    "ws2.sheet_properties.tabColor = \"e63019\"\n",
    "wb.save(\"fourth.xlsx\")"
   ]
  },
  {
   "cell_type": "code",
   "execution_count": 21,
   "id": "b44caf00-9613-4ae7-b11e-ccec1230261d",
   "metadata": {},
   "outputs": [],
   "source": [
    "ws['A3'] = 19"
   ]
  },
  {
   "cell_type": "code",
   "execution_count": 22,
   "id": "ec16912f-6101-4006-a6f1-6592eba39769",
   "metadata": {},
   "outputs": [],
   "source": [
    "ws['A4'] = \"=A1 + A3\""
   ]
  },
  {
   "cell_type": "code",
   "execution_count": 23,
   "id": "c3274746-c5b9-4e2b-9097-a16346170fc7",
   "metadata": {},
   "outputs": [],
   "source": [
    "wb.save(\"fifth.xlsx\")"
   ]
  },
  {
   "cell_type": "code",
   "execution_count": null,
   "id": "1f585a90-056a-465b-9ad9-9820fcb4fa7b",
   "metadata": {},
   "outputs": [],
   "source": []
  }
 ],
 "metadata": {
  "kernelspec": {
   "display_name": "Python 3 (ipykernel)",
   "language": "python",
   "name": "python3"
  },
  "language_info": {
   "codemirror_mode": {
    "name": "ipython",
    "version": 3
   },
   "file_extension": ".py",
   "mimetype": "text/x-python",
   "name": "python",
   "nbconvert_exporter": "python",
   "pygments_lexer": "ipython3",
   "version": "3.11.6"
  }
 },
 "nbformat": 4,
 "nbformat_minor": 5
}
