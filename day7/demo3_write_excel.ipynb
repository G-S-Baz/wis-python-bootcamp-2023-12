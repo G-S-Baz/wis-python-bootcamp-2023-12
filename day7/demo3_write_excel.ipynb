{
 "cells": [
  {
   "cell_type": "code",
   "execution_count": 2,
   "id": "edca43af-2369-4916-b8b9-57629fed4c34",
   "metadata": {},
   "outputs": [
    {
     "name": "stdout",
     "output_type": "stream",
     "text": [
      "Collecting openpyxl\n",
      "  Using cached openpyxl-3.1.2-py2.py3-none-any.whl (249 kB)\n",
      "Requirement already satisfied: et-xmlfile in /home/gabor/venv/lib/python3.11/site-packages (from openpyxl) (1.1.0)\n",
      "Installing collected packages: openpyxl\n",
      "Successfully installed openpyxl-3.1.2\n"
     ]
    }
   ],
   "source": [
    "!pip install openpyxl"
   ]
  },
  {
   "cell_type": "code",
   "execution_count": 3,
   "id": "4ae245bb-49b9-4ca7-b2bc-44618a8e73ec",
   "metadata": {},
   "outputs": [],
   "source": [
    "import openpyxl"
   ]
  },
  {
   "cell_type": "code",
   "execution_count": 4,
   "id": "b453d297-1df8-491f-8386-83f8646e3647",
   "metadata": {},
   "outputs": [],
   "source": [
    "wb = openpyxl.Workbook()"
   ]
  },
  {
   "cell_type": "code",
   "execution_count": 5,
   "id": "92497f0e-9c2c-4f1d-908b-18566a3b5a99",
   "metadata": {},
   "outputs": [],
   "source": [
    "ws = wb.active"
   ]
  },
  {
   "cell_type": "code",
   "execution_count": 6,
   "id": "1dba3d43-7702-4018-b918-6d6148f03508",
   "metadata": {},
   "outputs": [],
   "source": [
    "ws['A1'] = 42"
   ]
  },
  {
   "cell_type": "code",
   "execution_count": 7,
   "id": "a23cb83f-b53d-4c62-b332-96943335cf63",
   "metadata": {},
   "outputs": [],
   "source": [
    "wb.save(\"first.xlsx\")"
   ]
  },
  {
   "cell_type": "code",
   "execution_count": 8,
   "id": "5b8ad8c7-2da3-49e8-88a4-b56aa1f74ee1",
   "metadata": {},
   "outputs": [],
   "source": [
    "import datetime"
   ]
  },
  {
   "cell_type": "code",
   "execution_count": 9,
   "id": "37fbbb8a-6b43-451d-9e7b-a87bbd6de4eb",
   "metadata": {},
   "outputs": [],
   "source": [
    "ws['A2'] = datetime.datetime.now()"
   ]
  },
  {
   "cell_type": "code",
   "execution_count": 11,
   "id": "72df22ba-45f2-4f2a-803e-faebc8a5f238",
   "metadata": {},
   "outputs": [
    {
     "data": {
      "text/plain": [
       "datetime.datetime(2024, 1, 28, 10, 28, 27, 543439)"
      ]
     },
     "execution_count": 11,
     "metadata": {},
     "output_type": "execute_result"
    }
   ],
   "source": [
    "ws['A2'].value"
   ]
  },
  {
   "cell_type": "code",
   "execution_count": 12,
   "id": "342bdc9a-0c05-41b7-bbfc-bdd52445de1e",
   "metadata": {},
   "outputs": [],
   "source": [
    "wb.save(\"second.xlsx\")"
   ]
  },
  {
   "cell_type": "code",
   "execution_count": 13,
   "id": "78eabb3c-fea4-4b23-970a-a7216f38848b",
   "metadata": {},
   "outputs": [
    {
     "data": {
      "text/plain": [
       "13.0"
      ]
     },
     "execution_count": 13,
     "metadata": {},
     "output_type": "execute_result"
    }
   ],
   "source": [
    "ws.column_dimensions['A'].width"
   ]
  },
  {
   "cell_type": "code",
   "execution_count": 14,
   "id": "b3f43220-a4e5-4d39-9ae0-9f8d55314893",
   "metadata": {},
   "outputs": [],
   "source": [
    "ws.column_dimensions['A'].width = 20.0"
   ]
  },
  {
   "cell_type": "code",
   "execution_count": 15,
   "id": "d252eb33-44cc-4c50-8a35-53641e0355ac",
   "metadata": {},
   "outputs": [],
   "source": [
    "wb.save(\"third.xlsx\")"
   ]
  },
  {
   "cell_type": "code",
   "execution_count": null,
   "id": "23eba400-51da-4646-a058-3a1acaf1dd0e",
   "metadata": {},
   "outputs": [],
   "source": []
  }
 ],
 "metadata": {
  "kernelspec": {
   "display_name": "Python 3 (ipykernel)",
   "language": "python",
   "name": "python3"
  },
  "language_info": {
   "codemirror_mode": {
    "name": "ipython",
    "version": 3
   },
   "file_extension": ".py",
   "mimetype": "text/x-python",
   "name": "python",
   "nbconvert_exporter": "python",
   "pygments_lexer": "ipython3",
   "version": "3.11.6"
  }
 },
 "nbformat": 4,
 "nbformat_minor": 5
}
