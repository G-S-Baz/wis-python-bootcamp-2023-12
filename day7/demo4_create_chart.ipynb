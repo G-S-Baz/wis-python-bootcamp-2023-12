{
 "cells": [
  {
   "cell_type": "code",
   "execution_count": 1,
   "id": "46b6a2e6-2ae8-4271-9c31-4b0a5ebcce0e",
   "metadata": {},
   "outputs": [],
   "source": [
    "import openpyxl"
   ]
  },
  {
   "cell_type": "code",
   "execution_count": 2,
   "id": "efa37c26-c017-4845-bf5d-f039761746fd",
   "metadata": {},
   "outputs": [],
   "source": [
    "wb = openpyxl.Workbook()"
   ]
  },
  {
   "cell_type": "code",
   "execution_count": 3,
   "id": "e63fbc2e-a552-4cc4-ad1f-5af96f5604a1",
   "metadata": {},
   "outputs": [],
   "source": [
    "ws = wb.active"
   ]
  },
  {
   "cell_type": "code",
   "execution_count": 4,
   "id": "1f030671-5864-40a8-885d-eda6886dc27f",
   "metadata": {},
   "outputs": [],
   "source": [
    "ws.title = \"Chart\""
   ]
  },
  {
   "cell_type": "code",
   "execution_count": 5,
   "id": "3ccb0f10-ae71-4ecf-9e62-5d8792184d6e",
   "metadata": {},
   "outputs": [],
   "source": [
    "a = [\"First\", 20, 28, 30, 37, 18, 47]"
   ]
  },
  {
   "cell_type": "code",
   "execution_count": 6,
   "id": "d8f8919b-03d0-44b6-b11c-4a47892d2ac0",
   "metadata": {},
   "outputs": [],
   "source": [
    "b = [\"Second\", 35, 30, 40, 40, 38, 35]"
   ]
  },
  {
   "cell_type": "code",
   "execution_count": 7,
   "id": "e406a422-8e97-404a-87a7-2479cb797006",
   "metadata": {},
   "outputs": [],
   "source": [
    "for i in range (len(a)):\n",
    "   ws.cell(row = i+1, column = 1).value = a[i]\n",
    "   ws.cell(row = i+1, column = 2).value = b[i]"
   ]
  },
  {
   "cell_type": "code",
   "execution_count": 8,
   "id": "6d995b88-a8fa-49a5-bfe6-72d76c32e509",
   "metadata": {},
   "outputs": [],
   "source": [
    "wb.save(\"chart.xlsx\")"
   ]
  },
  {
   "cell_type": "code",
   "execution_count": 9,
   "id": "9e4dd71f-4d4c-4c14-82a2-5410afdc5f43",
   "metadata": {},
   "outputs": [],
   "source": [
    "chart_data = openpyxl.chart.Reference(ws, min_col=1, min_row=1, max_col=2, max_row=len(a))"
   ]
  },
  {
   "cell_type": "code",
   "execution_count": 10,
   "id": "f7d77e09-aa74-4512-b3de-a6006369f0d0",
   "metadata": {},
   "outputs": [],
   "source": [
    "lc = openpyxl.chart.LineChart()"
   ]
  },
  {
   "cell_type": "code",
   "execution_count": 11,
   "id": "0fd2bff8-0aad-4398-a544-5cade7df4884",
   "metadata": {},
   "outputs": [],
   "source": [
    "lc.add_data(chart_data, titles_from_data=True)"
   ]
  },
  {
   "cell_type": "code",
   "execution_count": 12,
   "id": "fbb665b6-ae28-4897-afa0-a172dc25c205",
   "metadata": {},
   "outputs": [],
   "source": [
    "ws.add_chart(lc, \"D1\")"
   ]
  },
  {
   "cell_type": "code",
   "execution_count": 13,
   "id": "fd48e4e7-4db2-4bcd-90ad-357e340e3767",
   "metadata": {},
   "outputs": [],
   "source": [
    "lc.title = \"Two Lines Chart\""
   ]
  },
  {
   "cell_type": "code",
   "execution_count": 14,
   "id": "55674e45-76ff-4f4d-b7f1-a5d0e8f9c6c2",
   "metadata": {},
   "outputs": [],
   "source": [
    "wb.save(\"chart.xlsx\")"
   ]
  },
  {
   "cell_type": "code",
   "execution_count": null,
   "id": "1fa736a6-62a0-45e8-9bcd-1fb0566e24cb",
   "metadata": {},
   "outputs": [],
   "source": []
  }
 ],
 "metadata": {
  "kernelspec": {
   "display_name": "Python 3 (ipykernel)",
   "language": "python",
   "name": "python3"
  },
  "language_info": {
   "codemirror_mode": {
    "name": "ipython",
    "version": 3
   },
   "file_extension": ".py",
   "mimetype": "text/x-python",
   "name": "python",
   "nbconvert_exporter": "python",
   "pygments_lexer": "ipython3",
   "version": "3.11.6"
  }
 },
 "nbformat": 4,
 "nbformat_minor": 5
}
