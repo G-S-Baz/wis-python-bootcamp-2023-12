{
 "cells": [
  {
   "cell_type": "code",
   "execution_count": 1,
   "id": "e1185cda-c165-41fd-9525-1d02403ca44d",
   "metadata": {},
   "outputs": [],
   "source": [
    "import openpyxl"
   ]
  },
  {
   "cell_type": "code",
   "execution_count": 4,
   "id": "5a7430ef-243e-43c9-90ff-9d59996d7290",
   "metadata": {},
   "outputs": [],
   "source": [
    "wb = openpyxl.load_workbook(filename = \"fifth.xlsx\")"
   ]
  },
  {
   "cell_type": "code",
   "execution_count": 5,
   "id": "aa07a1bc-d4c1-4726-bc0e-96b794e3e7b4",
   "metadata": {},
   "outputs": [
    {
     "name": "stdout",
     "output_type": "stream",
     "text": [
      "Main\n",
      "Other\n",
      "Other1\n",
      "Other2\n",
      "Other3\n"
     ]
    }
   ],
   "source": [
    "for ws in wb:\n",
    "    print(ws.title)"
   ]
  },
  {
   "cell_type": "code",
   "execution_count": 31,
   "id": "c488b20d-0539-4368-b7ce-1903c859cd82",
   "metadata": {},
   "outputs": [],
   "source": [
    "wb = openpyxl.load_workbook(filename = \"chart.xlsx\")"
   ]
  },
  {
   "cell_type": "code",
   "execution_count": 32,
   "id": "4bc62903-8413-456c-8783-93fc8b045c95",
   "metadata": {},
   "outputs": [],
   "source": [
    "ws = wb.active"
   ]
  },
  {
   "cell_type": "code",
   "execution_count": 33,
   "id": "0e813725-064e-4bbf-9f3c-f3a23b014598",
   "metadata": {},
   "outputs": [
    {
     "data": {
      "text/plain": [
       "'First'"
      ]
     },
     "execution_count": 33,
     "metadata": {},
     "output_type": "execute_result"
    }
   ],
   "source": [
    "ws['A1'].value"
   ]
  },
  {
   "cell_type": "code",
   "execution_count": 34,
   "id": "b92cb6e8-cb77-424e-adb6-6a616de9e048",
   "metadata": {},
   "outputs": [
    {
     "data": {
      "text/plain": [
       "7"
      ]
     },
     "execution_count": 34,
     "metadata": {},
     "output_type": "execute_result"
    }
   ],
   "source": [
    "len(ws['A'])"
   ]
  },
  {
   "cell_type": "code",
   "execution_count": 35,
   "id": "31985e1e-3dd2-4e57-a332-01096d524cbb",
   "metadata": {},
   "outputs": [
    {
     "data": {
      "text/plain": [
       "20"
      ]
     },
     "execution_count": 35,
     "metadata": {},
     "output_type": "execute_result"
    }
   ],
   "source": [
    "ws['A2'].value"
   ]
  },
  {
   "cell_type": "code",
   "execution_count": 36,
   "id": "91f46c02-c29e-4436-9ca3-7b45befed408",
   "metadata": {},
   "outputs": [],
   "source": [
    "ws['A2'] = 0"
   ]
  },
  {
   "cell_type": "code",
   "execution_count": 37,
   "id": "9073d4f0-293a-4c6d-9ec4-b9b7e64ab807",
   "metadata": {},
   "outputs": [],
   "source": [
    "wb.save(\"chart2.xlsx\")"
   ]
  },
  {
   "cell_type": "code",
   "execution_count": 38,
   "id": "3f3e85a6-1388-46c2-a332-ce7c6c132280",
   "metadata": {},
   "outputs": [
    {
     "name": "stdout",
     "output_type": "stream",
     "text": [
      "0\n",
      "28\n",
      "30\n",
      "37\n",
      "18\n"
     ]
    }
   ],
   "source": [
    "ws['C1'] = \"Third\"\n",
    "for i in range(2, len(ws['A'])):\n",
    "    print(ws.cell(row = i, column = 1).value)\n",
    "    ws.cell(row = i, column = 3).value = ws.cell(row = i, column = 1).value - 20"
   ]
  },
  {
   "cell_type": "code",
   "execution_count": 39,
   "id": "eece2881-bbf0-4a50-b885-c3bcee88f616",
   "metadata": {},
   "outputs": [],
   "source": [
    "wb.save(\"chart2.xlsx\")"
   ]
  },
  {
   "cell_type": "code",
   "execution_count": null,
   "id": "f6656997-c87c-4709-9fb1-00eb08a174fd",
   "metadata": {},
   "outputs": [],
   "source": [
    "openpyxl.chart."
   ]
  }
 ],
 "metadata": {
  "kernelspec": {
   "display_name": "Python 3 (ipykernel)",
   "language": "python",
   "name": "python3"
  },
  "language_info": {
   "codemirror_mode": {
    "name": "ipython",
    "version": 3
   },
   "file_extension": ".py",
   "mimetype": "text/x-python",
   "name": "python",
   "nbconvert_exporter": "python",
   "pygments_lexer": "ipython3",
   "version": "3.11.6"
  }
 },
 "nbformat": 4,
 "nbformat_minor": 5
}
